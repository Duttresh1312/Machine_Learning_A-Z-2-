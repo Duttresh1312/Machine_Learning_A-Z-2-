{
 "cells": [
  {
   "cell_type": "code",
   "execution_count": 2,
   "metadata": {},
   "outputs": [],
   "source": [
    "import tensorflow as tf\n",
    "from keras.preprocessing.image import ImageDataGenerator"
   ]
  },
  {
   "cell_type": "markdown",
   "metadata": {},
   "source": [
    "Data preprocessing"
   ]
  },
  {
   "cell_type": "markdown",
   "metadata": {},
   "source": [
    "Preprocessing the train set"
   ]
  },
  {
   "cell_type": "code",
   "execution_count": 3,
   "metadata": {},
   "outputs": [
    {
     "name": "stdout",
     "output_type": "stream",
     "text": [
      "Found 8000 images belonging to 2 classes.\n"
     ]
    }
   ],
   "source": [
    "train_datagen = ImageDataGenerator(\n",
    "    rescale= 1/253,\n",
    "    shear_range=0.2,\n",
    "    zoom_range= 0.2,\n",
    "    horizontal_flip=True\n",
    ")\n",
    "\n",
    "training_set = train_datagen.flow_from_directory(\n",
    "    'D:\\\\ML_A-Z_Code\\\\Deep Learning\\\\CNN\\\\dataset\\\\training_set',\n",
    "    target_size=(64,64),\n",
    "    batch_size=32,\n",
    "    class_mode='binary'\n",
    ")"
   ]
  },
  {
   "cell_type": "markdown",
   "metadata": {},
   "source": [
    "Preprocessing the test set"
   ]
  },
  {
   "cell_type": "code",
   "execution_count": 4,
   "metadata": {},
   "outputs": [
    {
     "name": "stdout",
     "output_type": "stream",
     "text": [
      "Found 2000 images belonging to 2 classes.\n"
     ]
    }
   ],
   "source": [
    "test_datagen = ImageDataGenerator(rescale=1/253)\n",
    "\n",
    "test_set = test_datagen.flow_from_directory(\n",
    "    'D:\\\\ML_A-Z_Code\\\\Deep Learning\\\\CNN\\\\dataset\\\\test_set',\n",
    "    target_size=(64,64),\n",
    "    batch_size=32,\n",
    "    class_mode='binary'\n",
    ")\n"
   ]
  },
  {
   "cell_type": "markdown",
   "metadata": {},
   "source": [
    "Building the CNN"
   ]
  },
  {
   "cell_type": "code",
   "execution_count": 5,
   "metadata": {},
   "outputs": [],
   "source": [
    "cnn = tf.keras.models.Sequential()"
   ]
  },
  {
   "cell_type": "markdown",
   "metadata": {},
   "source": [
    "Step 1- Convolutional layer"
   ]
  },
  {
   "cell_type": "code",
   "execution_count": 6,
   "metadata": {},
   "outputs": [],
   "source": [
    "cnn.add(tf.keras.layers.Conv2D(filters=32 ,kernel_size=3 ,activation='relu',input_shape=[64,64,3]))"
   ]
  },
  {
   "cell_type": "markdown",
   "metadata": {},
   "source": [
    "Step 2- Pooling "
   ]
  },
  {
   "cell_type": "code",
   "execution_count": 7,
   "metadata": {},
   "outputs": [],
   "source": [
    "cnn.add(tf.keras.layers.MaxPool2D(pool_size=2, strides=2))"
   ]
  },
  {
   "cell_type": "markdown",
   "metadata": {},
   "source": [
    "Adding second convolutional layer"
   ]
  },
  {
   "cell_type": "code",
   "execution_count": 8,
   "metadata": {},
   "outputs": [],
   "source": [
    "cnn.add(tf.keras.layers.Conv2D(filters=32 ,kernel_size=3 ,activation='relu'))\n",
    "cnn.add(tf.keras.layers.MaxPool2D(pool_size=2, strides=2))"
   ]
  },
  {
   "cell_type": "markdown",
   "metadata": {},
   "source": [
    "Step 3- Flattening"
   ]
  },
  {
   "cell_type": "code",
   "execution_count": 9,
   "metadata": {},
   "outputs": [],
   "source": [
    "cnn.add(tf.keras.layers.Flatten())"
   ]
  },
  {
   "cell_type": "markdown",
   "metadata": {},
   "source": [
    "Step 4- Full Connection"
   ]
  },
  {
   "cell_type": "code",
   "execution_count": 10,
   "metadata": {},
   "outputs": [],
   "source": [
    "cnn.add(tf.keras.layers.Dense(units=120, activation='relu'))"
   ]
  },
  {
   "cell_type": "markdown",
   "metadata": {},
   "source": [
    "Step 5- Output Layer"
   ]
  },
  {
   "cell_type": "code",
   "execution_count": 11,
   "metadata": {},
   "outputs": [],
   "source": [
    "cnn.add(tf.keras.layers.Dense(units=1, activation='sigmoid'))"
   ]
  },
  {
   "cell_type": "markdown",
   "metadata": {},
   "source": [
    "Training the CNN"
   ]
  },
  {
   "cell_type": "code",
   "execution_count": 12,
   "metadata": {},
   "outputs": [],
   "source": [
    "cnn.compile(optimizer='adam', loss='binary_crossentropy', metrics=['accuracy'])"
   ]
  },
  {
   "cell_type": "code",
   "execution_count": 12,
   "metadata": {},
   "outputs": [
    {
     "name": "stdout",
     "output_type": "stream",
     "text": [
      "Epoch 1/25\n",
      "250/250 [==============================] - 287s 1s/step - loss: 0.6834 - accuracy: 0.5638 - val_loss: 0.6325 - val_accuracy: 0.6625\n",
      "Epoch 2/25\n",
      "250/250 [==============================] - 57s 228ms/step - loss: 0.6200 - accuracy: 0.6604 - val_loss: 0.5734 - val_accuracy: 0.7275\n",
      "Epoch 3/25\n",
      "250/250 [==============================] - 27s 106ms/step - loss: 0.5742 - accuracy: 0.6967 - val_loss: 0.6892 - val_accuracy: 0.5900\n",
      "Epoch 4/25\n",
      "250/250 [==============================] - 27s 109ms/step - loss: 0.5486 - accuracy: 0.7226 - val_loss: 0.5326 - val_accuracy: 0.7415\n",
      "Epoch 5/25\n",
      "250/250 [==============================] - 26s 104ms/step - loss: 0.5257 - accuracy: 0.7344 - val_loss: 0.5123 - val_accuracy: 0.7375\n",
      "Epoch 6/25\n",
      "250/250 [==============================] - 25s 101ms/step - loss: 0.5023 - accuracy: 0.7510 - val_loss: 0.4930 - val_accuracy: 0.7720\n",
      "Epoch 7/25\n",
      "250/250 [==============================] - 28s 112ms/step - loss: 0.4846 - accuracy: 0.7605 - val_loss: 0.4892 - val_accuracy: 0.7630\n",
      "Epoch 8/25\n",
      "250/250 [==============================] - 28s 111ms/step - loss: 0.4673 - accuracy: 0.7729 - val_loss: 0.4756 - val_accuracy: 0.7735\n",
      "Epoch 9/25\n",
      "250/250 [==============================] - 27s 110ms/step - loss: 0.4592 - accuracy: 0.7761 - val_loss: 0.4604 - val_accuracy: 0.7810\n",
      "Epoch 10/25\n",
      "250/250 [==============================] - 27s 110ms/step - loss: 0.4427 - accuracy: 0.7903 - val_loss: 0.4732 - val_accuracy: 0.7805\n",
      "Epoch 11/25\n",
      "250/250 [==============================] - 28s 111ms/step - loss: 0.4299 - accuracy: 0.8014 - val_loss: 0.4464 - val_accuracy: 0.7945\n",
      "Epoch 12/25\n",
      "250/250 [==============================] - 31s 122ms/step - loss: 0.4263 - accuracy: 0.7997 - val_loss: 0.4761 - val_accuracy: 0.7820\n",
      "Epoch 13/25\n",
      "250/250 [==============================] - 32s 127ms/step - loss: 0.4156 - accuracy: 0.8077 - val_loss: 0.4566 - val_accuracy: 0.7865\n",
      "Epoch 14/25\n",
      "250/250 [==============================] - 32s 128ms/step - loss: 0.4069 - accuracy: 0.8112 - val_loss: 0.4589 - val_accuracy: 0.7895\n",
      "Epoch 15/25\n",
      "250/250 [==============================] - 27s 108ms/step - loss: 0.4047 - accuracy: 0.8083 - val_loss: 0.4605 - val_accuracy: 0.7955\n",
      "Epoch 16/25\n",
      "250/250 [==============================] - 26s 106ms/step - loss: 0.3867 - accuracy: 0.8219 - val_loss: 0.4344 - val_accuracy: 0.8030\n",
      "Epoch 17/25\n",
      "250/250 [==============================] - 27s 110ms/step - loss: 0.3874 - accuracy: 0.8250 - val_loss: 0.4447 - val_accuracy: 0.8015\n",
      "Epoch 18/25\n",
      "250/250 [==============================] - 27s 109ms/step - loss: 0.3750 - accuracy: 0.8310 - val_loss: 0.4300 - val_accuracy: 0.8105\n",
      "Epoch 19/25\n",
      "250/250 [==============================] - 27s 109ms/step - loss: 0.3748 - accuracy: 0.8304 - val_loss: 0.4426 - val_accuracy: 0.8085\n",
      "Epoch 20/25\n",
      "250/250 [==============================] - 27s 107ms/step - loss: 0.3626 - accuracy: 0.8366 - val_loss: 0.4595 - val_accuracy: 0.7900\n",
      "Epoch 21/25\n",
      "250/250 [==============================] - 27s 108ms/step - loss: 0.3515 - accuracy: 0.8439 - val_loss: 0.4986 - val_accuracy: 0.7715\n",
      "Epoch 22/25\n",
      "250/250 [==============================] - 27s 108ms/step - loss: 0.3366 - accuracy: 0.8516 - val_loss: 0.4395 - val_accuracy: 0.8115\n",
      "Epoch 23/25\n",
      "250/250 [==============================] - 28s 113ms/step - loss: 0.3341 - accuracy: 0.8529 - val_loss: 0.4649 - val_accuracy: 0.8035\n",
      "Epoch 24/25\n",
      "250/250 [==============================] - 29s 116ms/step - loss: 0.3298 - accuracy: 0.8555 - val_loss: 0.4761 - val_accuracy: 0.8060\n",
      "Epoch 25/25\n",
      "250/250 [==============================] - 28s 113ms/step - loss: 0.3250 - accuracy: 0.8585 - val_loss: 0.4281 - val_accuracy: 0.8170\n"
     ]
    },
    {
     "data": {
      "text/plain": [
       "<keras.callbacks.History at 0x1f19073ccd0>"
      ]
     },
     "execution_count": 12,
     "metadata": {},
     "output_type": "execute_result"
    }
   ],
   "source": [
    "cnn.fit(x= training_set, validation_data= test_set, epochs= 25) "
   ]
  },
  {
   "cell_type": "markdown",
   "metadata": {},
   "source": [
    "Making a single predicting"
   ]
  },
  {
   "cell_type": "code",
   "execution_count": 13,
   "metadata": {},
   "outputs": [
    {
     "name": "stdout",
     "output_type": "stream",
     "text": [
      "1/1 [==============================] - 0s 314ms/step\n",
      "cat\n"
     ]
    }
   ],
   "source": [
    "import numpy as np\n",
    "test_img = tf.keras.preprocessing.image.load_img('D:\\\\ML_A-Z_Code\\\\Deep Learning\\\\CNN\\\\dataset\\\\single_prediction\\\\cat_or_dog_2.jpg', target_size = (64,64))\n",
    "test_img = tf.keras.preprocessing.image.img_to_array(test_img)\n",
    "test_img = np.expand_dims(test_img, axis=0)\n",
    "result = cnn.predict(test_img)\n",
    "training_set.class_indices\n",
    "if result[0][0] == 1:\n",
    "    prediction = 'dog'\n",
    "else:\n",
    "    prediction = 'cat'\n",
    "\n",
    "print(prediction)"
   ]
  },
  {
   "cell_type": "code",
   "execution_count": null,
   "metadata": {},
   "outputs": [],
   "source": []
  }
 ],
 "metadata": {
  "kernelspec": {
   "display_name": "Python 3.10.7 64-bit",
   "language": "python",
   "name": "python3"
  },
  "language_info": {
   "codemirror_mode": {
    "name": "ipython",
    "version": 3
   },
   "file_extension": ".py",
   "mimetype": "text/x-python",
   "name": "python",
   "nbconvert_exporter": "python",
   "pygments_lexer": "ipython3",
   "version": "3.10.7"
  },
  "orig_nbformat": 4,
  "vscode": {
   "interpreter": {
    "hash": "369f2c481f4da34e4445cda3fffd2e751bd1c4d706f27375911949ba6bb62e1c"
   }
  }
 },
 "nbformat": 4,
 "nbformat_minor": 2
}
